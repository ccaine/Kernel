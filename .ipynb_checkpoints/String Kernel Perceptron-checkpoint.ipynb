{
 "cells": [
  {
   "cell_type": "code",
   "execution_count": 1,
   "metadata": {},
   "outputs": [],
   "source": [
    "import numpy as np\n",
    "import pandas as pd\n",
    "import time\n",
    "from random import randint\n",
    "from numpy import linalg as LA\n",
    "from collections import Counter"
   ]
  },
  {
   "cell_type": "code",
   "execution_count": 16,
   "metadata": {},
   "outputs": [],
   "source": [
    "# Read in data\n",
    "with open('../pa4train.txt') as f:\n",
    "    train = f.readlines()\n",
    "train = [x.strip() for x in train] \n",
    "\n",
    "with open('../pa4test.txt') as f:\n",
    "    test = f.readlines()\n",
    "test = [x.strip() for x in test] "
   ]
  },
  {
   "cell_type": "code",
   "execution_count": 23,
   "metadata": {},
   "outputs": [],
   "source": [
    "# Remove spaces and split into label/data\n",
    "for i in range (0,len(train)):\n",
    "    train[i] = train[i].split(\" \")\n",
    "\n",
    "for i in range (0,len(test)):\n",
    "    test[i] = test[i].split(\" \")"
   ]
  },
  {
   "cell_type": "code",
   "execution_count": 30,
   "metadata": {},
   "outputs": [],
   "source": [
    "# create empty lists for data sorting\n",
    "trainData = [x[0] for x in train]\n",
    "trainLabel = [x[1] for x in train]\n",
    "\n",
    "testData = [x[0] for x in test]\n",
    "testLabel = [x[1] for x in test]"
   ]
  },
  {
   "cell_type": "code",
   "execution_count": 37,
   "metadata": {},
   "outputs": [],
   "source": [
    "# convert label string to int\n",
    "trainLabel = [int(i) for i in trainLabel]\n",
    "\n",
    "testLabel = [int(i) for i in testLabel]"
   ]
  },
  {
   "cell_type": "code",
   "execution_count": 168,
   "metadata": {},
   "outputs": [],
   "source": [
    "p = 2\n",
    "s = 'AABA'\n",
    "t = 'BABABA'"
   ]
  },
  {
   "cell_type": "code",
   "execution_count": 169,
   "metadata": {},
   "outputs": [
    {
     "data": {
      "text/plain": [
       "'AABA'"
      ]
     },
     "execution_count": 169,
     "metadata": {},
     "output_type": "execute_result"
    }
   ],
   "source": [
    "s"
   ]
  },
  {
   "cell_type": "code",
   "execution_count": 170,
   "metadata": {},
   "outputs": [
    {
     "data": {
      "text/plain": [
       "'BABABA'"
      ]
     },
     "execution_count": 170,
     "metadata": {},
     "output_type": "execute_result"
    }
   ],
   "source": [
    "t"
   ]
  },
  {
   "cell_type": "code",
   "execution_count": 171,
   "metadata": {},
   "outputs": [],
   "source": [
    "sDict = {}\n",
    "tDict = {}\n",
    "\n",
    "# calculate the Kernel value for two strings s,t\n",
    "for i in range(0,len(s)-p+1):\n",
    "    # check every substring of length p in s\n",
    "    v = s[i:(i+p)]\n",
    "        \n",
    "    # check if v is a substring in t\n",
    "    if v in t:\n",
    "        \n",
    "        # check if v is already in dictionary of S where v has been seen already\n",
    "        if v in sDict:\n",
    "            sDict[v] = sDict[v]+1\n",
    "        else:\n",
    "            sDict[v] = 1\n",
    "        \n",
    "        # if v has not been seen in t before\n",
    "        if v not in tDict:\n",
    "            tDict[v] = 0\n",
    "            # check all substrings of length p in t\n",
    "            for j in range (0,len(t)-p+1):\n",
    "                u = t[j:(j+p)]\n",
    "                # if substring is v increment times seen in t\n",
    "                if u == v:\n",
    "                    tDict[v] = tDict[v] + 1\n",
    "                    \n",
    "# get all the common substrings                    \n",
    "common = list(sDict.keys())        \n",
    "\n",
    "# calculate num of common substrings of length p\n",
    "k = 0\n",
    "for x in common:\n",
    "    k = k + (sDict[x]*tDict[x])"
   ]
  },
  {
   "cell_type": "code",
   "execution_count": 172,
   "metadata": {},
   "outputs": [
    {
     "data": {
      "text/plain": [
       "{'AB': 1, 'BA': 1}"
      ]
     },
     "execution_count": 172,
     "metadata": {},
     "output_type": "execute_result"
    }
   ],
   "source": [
    "sDict"
   ]
  },
  {
   "cell_type": "code",
   "execution_count": 173,
   "metadata": {},
   "outputs": [
    {
     "data": {
      "text/plain": [
       "{'AB': 2, 'BA': 3}"
      ]
     },
     "execution_count": 173,
     "metadata": {},
     "output_type": "execute_result"
    }
   ],
   "source": [
    "tDict"
   ]
  },
  {
   "cell_type": "code",
   "execution_count": 174,
   "metadata": {},
   "outputs": [
    {
     "data": {
      "text/plain": [
       "5"
      ]
     },
     "execution_count": 174,
     "metadata": {},
     "output_type": "execute_result"
    }
   ],
   "source": [
    "k"
   ]
  },
  {
   "cell_type": "code",
   "execution_count": 144,
   "metadata": {},
   "outputs": [
    {
     "data": {
      "text/plain": [
       "['GL',\n",
       " 'LR',\n",
       " 'LS',\n",
       " 'LL',\n",
       " 'SL',\n",
       " 'TV',\n",
       " 'IG',\n",
       " 'GK',\n",
       " 'KH',\n",
       " 'NL',\n",
       " 'VC',\n",
       " 'RR',\n",
       " 'CE',\n",
       " 'LG']"
      ]
     },
     "execution_count": 144,
     "metadata": {},
     "output_type": "execute_result"
    }
   ],
   "source": [
    "common"
   ]
  },
  {
   "cell_type": "code",
   "execution_count": 58,
   "metadata": {},
   "outputs": [],
   "source": [
    "d = {'apple':5,'banana':2}"
   ]
  },
  {
   "cell_type": "code",
   "execution_count": 111,
   "metadata": {},
   "outputs": [
    {
     "name": "stdout",
     "output_type": "stream",
     "text": [
      "yes\n"
     ]
    }
   ],
   "source": [
    "if 'banana' in d:\n",
    "    print(\"yes\")\n",
    "if 'apple' in d:\n",
    "    print(\"no\")"
   ]
  },
  {
   "cell_type": "code",
   "execution_count": 66,
   "metadata": {},
   "outputs": [],
   "source": [
    "aps = 'apple'"
   ]
  },
  {
   "cell_type": "code",
   "execution_count": 46,
   "metadata": {},
   "outputs": [
    {
     "data": {
      "text/plain": [
       "6"
      ]
     },
     "execution_count": 46,
     "metadata": {},
     "output_type": "execute_result"
    }
   ],
   "source": []
  },
  {
   "cell_type": "code",
   "execution_count": null,
   "metadata": {},
   "outputs": [],
   "source": []
  }
 ],
 "metadata": {
  "kernelspec": {
   "display_name": "Python 3",
   "language": "python",
   "name": "python3"
  },
  "language_info": {
   "codemirror_mode": {
    "name": "ipython",
    "version": 3
   },
   "file_extension": ".py",
   "mimetype": "text/x-python",
   "name": "python",
   "nbconvert_exporter": "python",
   "pygments_lexer": "ipython3",
   "version": "3.6.3"
  }
 },
 "nbformat": 4,
 "nbformat_minor": 2
}
