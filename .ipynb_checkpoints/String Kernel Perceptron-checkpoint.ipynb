{
 "cells": [
  {
   "cell_type": "code",
   "execution_count": 110,
   "metadata": {},
   "outputs": [],
   "source": [
    "import numpy as np\n",
    "import pandas as pd\n",
    "import time\n",
    "import regex as re\n",
    "from random import randint\n",
    "from numpy import linalg as LA\n",
    "from collections import Counter"
   ]
  },
  {
   "cell_type": "code",
   "execution_count": 2,
   "metadata": {},
   "outputs": [],
   "source": [
    "# Read in data\n",
    "with open('../pa4train.txt') as f:\n",
    "    train = f.readlines()\n",
    "train = [x.strip() for x in train] \n",
    "\n",
    "with open('../pa4test.txt') as f:\n",
    "    test = f.readlines()\n",
    "test = [x.strip() for x in test] "
   ]
  },
  {
   "cell_type": "code",
   "execution_count": 3,
   "metadata": {},
   "outputs": [],
   "source": [
    "# Remove spaces and split into label/data\n",
    "for i in range (0,len(train)):\n",
    "    train[i] = train[i].split(\" \")\n",
    "\n",
    "for i in range (0,len(test)):\n",
    "    test[i] = test[i].split(\" \")"
   ]
  },
  {
   "cell_type": "code",
   "execution_count": 4,
   "metadata": {},
   "outputs": [],
   "source": [
    "# create empty lists for data sorting\n",
    "trainData = [x[0] for x in train]\n",
    "trainLabel = [x[1] for x in train]\n",
    "\n",
    "testData = [x[0] for x in test]\n",
    "testLabel = [x[1] for x in test]"
   ]
  },
  {
   "cell_type": "code",
   "execution_count": 5,
   "metadata": {},
   "outputs": [],
   "source": [
    "# convert label string to int\n",
    "trainLabel = [int(i) for i in trainLabel]\n",
    "\n",
    "testLabel = [int(i) for i in testLabel]"
   ]
  },
  {
   "cell_type": "code",
   "execution_count": 122,
   "metadata": {},
   "outputs": [],
   "source": [
    "p = 2\n",
    "s = 'AABA'\n",
    "t = 'BABABA'"
   ]
  },
  {
   "cell_type": "code",
   "execution_count": 118,
   "metadata": {},
   "outputs": [
    {
     "data": {
      "text/plain": [
       "2"
      ]
     },
     "execution_count": 118,
     "metadata": {},
     "output_type": "execute_result"
    }
   ],
   "source": [
    "len(re.findall('AB','BABABA' , overlapped=True))"
   ]
  },
  {
   "cell_type": "code",
   "execution_count": 8,
   "metadata": {},
   "outputs": [
    {
     "data": {
      "text/plain": [
       "'BABABA'"
      ]
     },
     "execution_count": 8,
     "metadata": {},
     "output_type": "execute_result"
    }
   ],
   "source": [
    "t"
   ]
  },
  {
   "cell_type": "code",
   "execution_count": 9,
   "metadata": {},
   "outputs": [],
   "source": [
    "sDict = {}\n",
    "tDict = {}\n",
    "\n",
    "# calculate the Kernel value for two strings s,t\n",
    "for i in range(0,len(s)-p+1):\n",
    "    # check every substring of length p in s\n",
    "    v = s[i:(i+p)]\n",
    "        \n",
    "    # check if v is a substring in t\n",
    "    if v in t:\n",
    "        \n",
    "        # check if v is already in dictionary of S where v has been seen already\n",
    "        if v in sDict:\n",
    "            sDict[v] = sDict[v]+1\n",
    "        else:\n",
    "            sDict[v] = 1\n",
    "        \n",
    "        # if v has not been seen in t before\n",
    "        if v not in tDict:\n",
    "            tDict[v] = 0\n",
    "            # check all substrings of length p in t\n",
    "            for j in range (0,len(t)-p+1):\n",
    "                u = t[j:(j+p)]\n",
    "                # if substring is v increment times seen in t\n",
    "                if u == v:\n",
    "                    tDict[v] = tDict[v] + 1\n",
    "                    \n",
    "# get all the common substrings                    \n",
    "common = list(sDict.keys())        \n",
    "\n",
    "# calculate num of common substrings of length p\n",
    "k = 0\n",
    "for x in common:\n",
    "    k = k + (sDict[x]*tDict[x])"
   ]
  },
  {
   "cell_type": "code",
   "execution_count": 120,
   "metadata": {},
   "outputs": [],
   "source": [
    "def calcKk(s,t,p):\n",
    "    sDict = {}\n",
    "    tDict = {}\n",
    "\n",
    "    # calculate the Kernel value for two strings s,t\n",
    "    for i in range(0,len(s)-p+1):\n",
    "        # check every substring of length p in s\n",
    "        v = s[i:(i+p)]\n",
    "        \n",
    "        # check if v is a substring in t\n",
    "        if v in t:\n",
    "        \n",
    "            # check if v is already in dictionary of S where v has been seen already\n",
    "            if v in sDict:\n",
    "                sDict[v] = sDict[v]+1\n",
    "            else:\n",
    "                sDict[v] = 1\n",
    "        \n",
    "            # if v has not been seen in t before\n",
    "            if v not in tDict:\n",
    "                tDict[v] = 0\n",
    "                # check all substrings of length p in t\n",
    "                for j in range (0,len(t)-p+1):\n",
    "                    u = t[j:(j+p)]\n",
    "                    # if substring is v increment times seen in t\n",
    "                    if u == v:\n",
    "                        tDict[v] = tDict[v] + 1\n",
    "                    \n",
    "    # get all the common substrings                    \n",
    "    common = list(sDict.keys())        \n",
    "\n",
    "    # calculate num of common substrings of length p\n",
    "    k = 0\n",
    "    for x in common:\n",
    "        k = k + (sDict[x]*tDict[x])\n",
    "    \n",
    "    return k"
   ]
  },
  {
   "cell_type": "code",
   "execution_count": 119,
   "metadata": {},
   "outputs": [],
   "source": [
    "def calcK(s,t,p):\n",
    "    sDict = {}\n",
    "    tDict = {}\n",
    "\n",
    "    # calculate the Kernel value for two strings s,t\n",
    "    for i in range(0,len(s)-p+1):\n",
    "        # check every substring of length p in s\n",
    "        v = s[i:(i+p)]\n",
    "        \n",
    "        # check if v is not already seen in s and t\n",
    "        if v not in tDict:\n",
    "            \n",
    "            # count number of v substring in t\n",
    "            numV = len(re.findall(v,t, overlapped=True))\n",
    "            \n",
    "            # if there are > 0 occurances in t\n",
    "            if numV != 0:\n",
    "                tDict[v] = numV\n",
    "                sDict[v] = len(re.findall(v,s, overlapped=True))\n",
    "                    \n",
    "    # get all the common substrings                    \n",
    "    common = list(sDict.keys())        \n",
    "\n",
    "    # calculate num of common substrings of length p\n",
    "    k = 0\n",
    "    for x in common:\n",
    "        k = k + (sDict[x]*tDict[x])\n",
    "    \n",
    "    return k"
   ]
  },
  {
   "cell_type": "code",
   "execution_count": 123,
   "metadata": {},
   "outputs": [
    {
     "data": {
      "text/plain": [
       "5"
      ]
     },
     "execution_count": 123,
     "metadata": {},
     "output_type": "execute_result"
    }
   ],
   "source": [
    "calcK(s,t,p)"
   ]
  },
  {
   "cell_type": "code",
   "execution_count": 124,
   "metadata": {},
   "outputs": [
    {
     "data": {
      "text/plain": [
       "{'AB': 1, 'BA': 1}"
      ]
     },
     "execution_count": 124,
     "metadata": {},
     "output_type": "execute_result"
    }
   ],
   "source": [
    "sDict"
   ]
  },
  {
   "cell_type": "code",
   "execution_count": 125,
   "metadata": {},
   "outputs": [
    {
     "data": {
      "text/plain": [
       "{'AB': 2, 'BA': 3}"
      ]
     },
     "execution_count": 125,
     "metadata": {},
     "output_type": "execute_result"
    }
   ],
   "source": [
    "tDict"
   ]
  },
  {
   "cell_type": "code",
   "execution_count": 12,
   "metadata": {},
   "outputs": [
    {
     "data": {
      "text/plain": [
       "5"
      ]
     },
     "execution_count": 12,
     "metadata": {},
     "output_type": "execute_result"
    }
   ],
   "source": [
    "k"
   ]
  },
  {
   "cell_type": "code",
   "execution_count": 13,
   "metadata": {},
   "outputs": [
    {
     "data": {
      "text/plain": [
       "['AB', 'BA']"
      ]
     },
     "execution_count": 13,
     "metadata": {},
     "output_type": "execute_result"
    }
   ],
   "source": [
    "common"
   ]
  },
  {
   "cell_type": "code",
   "execution_count": 147,
   "metadata": {},
   "outputs": [],
   "source": [
    "# create lists to store x,y to generate W_t\n",
    "setS = []\n",
    "times = []\n",
    "p = 1"
   ]
  },
  {
   "cell_type": "code",
   "execution_count": 148,
   "metadata": {},
   "outputs": [
    {
     "ename": "KeyboardInterrupt",
     "evalue": "",
     "output_type": "error",
     "traceback": [
      "\u001b[1;31m---------------------------------------------------------------------------\u001b[0m",
      "\u001b[1;31mKeyboardInterrupt\u001b[0m                         Traceback (most recent call last)",
      "\u001b[1;32m<ipython-input-148-dc0c1ba5a224>\u001b[0m in \u001b[0;36m<module>\u001b[1;34m()\u001b[0m\n\u001b[0;32m      7\u001b[0m     \u001b[1;32mfor\u001b[0m \u001b[0mi\u001b[0m \u001b[1;32min\u001b[0m \u001b[0mrange\u001b[0m \u001b[1;33m(\u001b[0m\u001b[1;36m0\u001b[0m\u001b[1;33m,\u001b[0m\u001b[0mlen\u001b[0m\u001b[1;33m(\u001b[0m\u001b[0msetS\u001b[0m\u001b[1;33m)\u001b[0m\u001b[1;33m)\u001b[0m\u001b[1;33m:\u001b[0m\u001b[1;33m\u001b[0m\u001b[0m\n\u001b[0;32m      8\u001b[0m         \u001b[0mcurIndex\u001b[0m \u001b[1;33m=\u001b[0m \u001b[0msetS\u001b[0m\u001b[1;33m[\u001b[0m\u001b[0mi\u001b[0m\u001b[1;33m]\u001b[0m\u001b[1;33m\u001b[0m\u001b[0m\n\u001b[1;32m----> 9\u001b[1;33m         \u001b[0mwDot\u001b[0m \u001b[1;33m=\u001b[0m \u001b[0mwDot\u001b[0m \u001b[1;33m+\u001b[0m \u001b[0mtrainLabel\u001b[0m\u001b[1;33m[\u001b[0m\u001b[0mcurIndex\u001b[0m\u001b[1;33m]\u001b[0m\u001b[1;33m*\u001b[0m\u001b[0mcalcK\u001b[0m\u001b[1;33m(\u001b[0m\u001b[0mtrainData\u001b[0m\u001b[1;33m[\u001b[0m\u001b[0mcurIndex\u001b[0m\u001b[1;33m]\u001b[0m\u001b[1;33m,\u001b[0m\u001b[0mtrainData\u001b[0m\u001b[1;33m[\u001b[0m\u001b[0mt\u001b[0m\u001b[1;33m]\u001b[0m\u001b[1;33m,\u001b[0m\u001b[0mp\u001b[0m\u001b[1;33m)\u001b[0m\u001b[1;33m\u001b[0m\u001b[0m\n\u001b[0m\u001b[0;32m     10\u001b[0m     \u001b[0mt1\u001b[0m \u001b[1;33m=\u001b[0m \u001b[0mtime\u001b[0m\u001b[1;33m.\u001b[0m\u001b[0mtime\u001b[0m\u001b[1;33m(\u001b[0m\u001b[1;33m)\u001b[0m\u001b[1;33m\u001b[0m\u001b[0m\n\u001b[0;32m     11\u001b[0m     \u001b[1;32mif\u001b[0m\u001b[1;33m(\u001b[0m\u001b[0mt1\u001b[0m\u001b[1;33m-\u001b[0m\u001b[0mt0\u001b[0m \u001b[1;33m!=\u001b[0m \u001b[1;36m0\u001b[0m\u001b[1;33m)\u001b[0m\u001b[1;33m:\u001b[0m\u001b[1;33m\u001b[0m\u001b[0m\n",
      "\u001b[1;32m<ipython-input-119-559058852cb0>\u001b[0m in \u001b[0;36mcalcK\u001b[1;34m(s, t, p)\u001b[0m\n\u001b[0;32m     17\u001b[0m             \u001b[1;32mif\u001b[0m \u001b[0mnumV\u001b[0m \u001b[1;33m!=\u001b[0m \u001b[1;36m0\u001b[0m\u001b[1;33m:\u001b[0m\u001b[1;33m\u001b[0m\u001b[0m\n\u001b[0;32m     18\u001b[0m                 \u001b[0mtDict\u001b[0m\u001b[1;33m[\u001b[0m\u001b[0mv\u001b[0m\u001b[1;33m]\u001b[0m \u001b[1;33m=\u001b[0m \u001b[0mnumV\u001b[0m\u001b[1;33m\u001b[0m\u001b[0m\n\u001b[1;32m---> 19\u001b[1;33m                 \u001b[0msDict\u001b[0m\u001b[1;33m[\u001b[0m\u001b[0mv\u001b[0m\u001b[1;33m]\u001b[0m \u001b[1;33m=\u001b[0m \u001b[0mlen\u001b[0m\u001b[1;33m(\u001b[0m\u001b[0mre\u001b[0m\u001b[1;33m.\u001b[0m\u001b[0mfindall\u001b[0m\u001b[1;33m(\u001b[0m\u001b[0mv\u001b[0m\u001b[1;33m,\u001b[0m\u001b[0ms\u001b[0m\u001b[1;33m,\u001b[0m \u001b[0moverlapped\u001b[0m\u001b[1;33m=\u001b[0m\u001b[1;32mTrue\u001b[0m\u001b[1;33m)\u001b[0m\u001b[1;33m)\u001b[0m\u001b[1;33m\u001b[0m\u001b[0m\n\u001b[0m\u001b[0;32m     20\u001b[0m \u001b[1;33m\u001b[0m\u001b[0m\n\u001b[0;32m     21\u001b[0m     \u001b[1;31m# get all the common substrings\u001b[0m\u001b[1;33m\u001b[0m\u001b[1;33m\u001b[0m\u001b[0m\n",
      "\u001b[1;32m~\\Anaconda3\\envs\\deeplearning\\lib\\site-packages\\regex.py\u001b[0m in \u001b[0;36mfindall\u001b[1;34m(pattern, string, flags, pos, endpos, overlapped, concurrent, **kwargs)\u001b[0m\n\u001b[0;32m    331\u001b[0m     more than one group. Empty matches are included in the result.\"\"\"\n\u001b[0;32m    332\u001b[0m     return _compile(pattern, flags, kwargs).findall(string, pos, endpos,\n\u001b[1;32m--> 333\u001b[1;33m       overlapped, concurrent)\n\u001b[0m\u001b[0;32m    334\u001b[0m \u001b[1;33m\u001b[0m\u001b[0m\n\u001b[0;32m    335\u001b[0m def finditer(pattern, string, flags=0, pos=None, endpos=None, overlapped=False,\n",
      "\u001b[1;31mKeyboardInterrupt\u001b[0m: "
     ]
    }
   ],
   "source": [
    "t2 = time.time()\n",
    "# Kernelized Perceptron\n",
    "wDot = 0\n",
    "for t in range (0,len(trainData)):\n",
    "    # calculate <w_t,Phi(x_t)> by summing y_i*K(x_i,x)\n",
    "    t0 = time.time() \n",
    "    for i in range (0,len(setS)):\n",
    "        curIndex = setS[i]\n",
    "        wDot = wDot + trainLabel[curIndex]*calcK(trainData[curIndex],trainData[t],p)\n",
    "    t1 = time.time() \n",
    "    if(t1-t0 != 0):\n",
    "        times.append(t1-t0)\n",
    "    # calculate y*<w,x>\n",
    "    location = trainLabel[t]*wDot\n",
    "    \n",
    "    # check if y*<w,x> is 0\n",
    "    if location == 0:\n",
    "        # pick a random value 1 or -1\n",
    "        if(randint(0,1) == 0):\n",
    "            location = -1\n",
    "        else:\n",
    "            location = 1\n",
    "    \n",
    "    # if location is less than 0, then update sets of x,y where a mistake happened\n",
    "    if location < 0: \n",
    "        setS.append(t)\n",
    "        \n",
    "t3 = time.time()"
   ]
  },
  {
   "cell_type": "code",
   "execution_count": 143,
   "metadata": {},
   "outputs": [
    {
     "data": {
      "text/plain": [
       "61.320125341415405"
      ]
     },
     "execution_count": 143,
     "metadata": {},
     "output_type": "execute_result"
    }
   ],
   "source": [
    "t3-t2"
   ]
  },
  {
   "cell_type": "code",
   "execution_count": 149,
   "metadata": {},
   "outputs": [],
   "source": [
    "l = []\n",
    "l.extend(range(0,len(times)))"
   ]
  },
  {
   "cell_type": "code",
   "execution_count": 150,
   "metadata": {},
   "outputs": [
    {
     "data": {
      "text/plain": [
       "[<matplotlib.lines.Line2D at 0x1e87830dbe0>]"
      ]
     },
     "execution_count": 150,
     "metadata": {},
     "output_type": "execute_result"
    }
   ],
   "source": [
    "import matplotlib.pyplot as plt\n",
    "plt.plot(l,times)"
   ]
  },
  {
   "cell_type": "code",
   "execution_count": 151,
   "metadata": {},
   "outputs": [
    {
     "data": {
      "image/png": "[encoded data removed]",
      "text/plain": [
       "<matplotlib.figure.Figure at 0x1e878211550>"
      ]
     },
     "metadata": {},
     "output_type": "display_data"
    }
   ],
   "source": [
    "plt.show()"
   ]
  },
  {
   "cell_type": "code",
   "execution_count": 153,
   "metadata": {},
   "outputs": [
    {
     "data": {
      "text/plain": [
       "3534"
      ]
     },
     "execution_count": 153,
     "metadata": {},
     "output_type": "execute_result"
    }
   ],
   "source": []
  },
  {
   "cell_type": "code",
   "execution_count": 106,
   "metadata": {},
   "outputs": [],
   "source": [
    "d = {'apple':5,'banana':2}"
   ]
  },
  {
   "cell_type": "code",
   "execution_count": 111,
   "metadata": {},
   "outputs": [
    {
     "name": "stdout",
     "output_type": "stream",
     "text": [
      "yes\n"
     ]
    }
   ],
   "source": [
    "if 'banana' in d:\n",
    "    print(\"yes\")\n",
    "if 'apple' in d:\n",
    "    print(\"no\")"
   ]
  },
  {
   "cell_type": "code",
   "execution_count": 66,
   "metadata": {},
   "outputs": [],
   "source": [
    "aps = 'apple'"
   ]
  },
  {
   "cell_type": "code",
   "execution_count": 107,
   "metadata": {},
   "outputs": [
    {
     "ename": "KeyError",
     "evalue": "'car'",
     "output_type": "error",
     "traceback": [
      "\u001b[1;31m---------------------------------------------------------------------------\u001b[0m",
      "\u001b[1;31mKeyError\u001b[0m                                  Traceback (most recent call last)",
      "\u001b[1;32m<ipython-input-107-014b76d09134>\u001b[0m in \u001b[0;36m<module>\u001b[1;34m()\u001b[0m\n\u001b[1;32m----> 1\u001b[1;33m \u001b[0md\u001b[0m\u001b[1;33m[\u001b[0m\u001b[1;34m'car'\u001b[0m\u001b[1;33m]\u001b[0m \u001b[1;33m+=\u001b[0m \u001b[1;36m1\u001b[0m\u001b[1;33m\u001b[0m\u001b[0m\n\u001b[0m",
      "\u001b[1;31mKeyError\u001b[0m: 'car'"
     ]
    }
   ],
   "source": [
    "d['car'] += 1"
   ]
  },
  {
   "cell_type": "code",
   "execution_count": null,
   "metadata": {},
   "outputs": [],
   "source": []
  }
 ],
 "metadata": {
  "kernelspec": {
   "display_name": "Python 3",
   "language": "python",
   "name": "python3"
  },
  "language_info": {
   "codemirror_mode": {
    "name": "ipython",
    "version": 3
   },
   "file_extension": ".py",
   "mimetype": "text/x-python",
   "name": "python",
   "nbconvert_exporter": "python",
   "pygments_lexer": "ipython3",
   "version": "3.6.3"
  }
 },
 "nbformat": 4,
 "nbformat_minor": 2
}
